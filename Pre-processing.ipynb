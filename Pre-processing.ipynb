{
 "cells": [
  {
   "cell_type": "code",
   "execution_count": 1,
   "metadata": {
    "collapsed": true
   },
   "outputs": [],
   "source": [
    "import numpy as np\n",
    "import cv2\n",
    "import matplotlib.pyplot as plt\n",
    "import skimage.feature\n",
    "import pandas as pd\n",
    "import time\n",
    "import math\n",
    "from ast import literal_eval\n",
    "%matplotlib inline"
   ]
  },
  {
   "cell_type": "markdown",
   "metadata": {},
   "source": [
    "# Data Initialization"
   ]
  },
  {
   "cell_type": "code",
   "execution_count": 3,
   "metadata": {
    "collapsed": true
   },
   "outputs": [],
   "source": [
    "classes = [\"adult_males\", \"subadult_males\", \"adult_females\", \"juveniles\", \"pups\", \"total\"]\n",
    "\n",
    "train_path = '/Users/YINAN/Local/Sea-lions/Data/Train/'\n",
    "train_dotted_path = '/Users/YINAN/Local/Sea-lions/Data/TrainDotted/'\n",
    "\n",
    "bad_images = [3,7,9,21,30,34,71,81,89,97,151,184,215,234,242,268,290,311,331,344,380,384,406,421,469,475,490,499,507,\n",
    "              530,531,605,607,614,621,638,644,687,712,721]\n",
    "\n",
    "file_names = [str(x) + '.jpg' for x in range(0,750) if x not in bad_images]\n",
    "coordinates_df = pd.DataFrame(index=file_names, columns=classes)\n",
    "# read all the coordinates \n",
    "coordinates_df = pd.read_csv(\"./coordinates.csv\", index_col='index', converters={\"total\": literal_eval})"
   ]
  },
  {
   "cell_type": "code",
   "execution_count": 9,
   "metadata": {},
   "outputs": [
    {
     "data": {
      "text/html": [
       "<div>\n",
       "<style>\n",
       "    .dataframe thead tr:only-child th {\n",
       "        text-align: right;\n",
       "    }\n",
       "\n",
       "    .dataframe thead th {\n",
       "        text-align: left;\n",
       "    }\n",
       "\n",
       "    .dataframe tbody tr th {\n",
       "        vertical-align: top;\n",
       "    }\n",
       "</style>\n",
       "<table border=\"1\" class=\"dataframe\">\n",
       "  <thead>\n",
       "    <tr style=\"text-align: right;\">\n",
       "      <th></th>\n",
       "      <th>adult_males</th>\n",
       "      <th>subadult_males</th>\n",
       "      <th>adult_females</th>\n",
       "      <th>juveniles</th>\n",
       "      <th>pups</th>\n",
       "      <th>total</th>\n",
       "    </tr>\n",
       "    <tr>\n",
       "      <th>index</th>\n",
       "      <th></th>\n",
       "      <th></th>\n",
       "      <th></th>\n",
       "      <th></th>\n",
       "      <th></th>\n",
       "      <th></th>\n",
       "    </tr>\n",
       "  </thead>\n",
       "  <tbody>\n",
       "    <tr>\n",
       "      <th>0.jpg</th>\n",
       "      <td>[(2353, 3726), (3638, 3539), (4720, 3476), (41...</td>\n",
       "      <td>[(1437, 3178), (4017, 3094), (5135, 2649), (63...</td>\n",
       "      <td>[(1953, 3730), (2882, 3728), (3443, 3725), (26...</td>\n",
       "      <td>[(3295, 3515), (1009, 3489), (3941, 3470), (10...</td>\n",
       "      <td>[(3143, 3732), (3486, 3726), (2694, 3711), (19...</td>\n",
       "      <td>[(3143, 3732), (1953, 3730), (2882, 3728), (34...</td>\n",
       "    </tr>\n",
       "    <tr>\n",
       "      <th>1.jpg</th>\n",
       "      <td>[(3012, 2880), (2233, 871)]</td>\n",
       "      <td>[(4655, 3056), (4574, 2992), (4609, 2959), (39...</td>\n",
       "      <td>[]</td>\n",
       "      <td>[(3619, 3609), (4781, 3414), (4437, 2933), (43...</td>\n",
       "      <td>[]</td>\n",
       "      <td>[(3619, 3609), (4781, 3414), (4655, 3056), (45...</td>\n",
       "    </tr>\n",
       "    <tr>\n",
       "      <th>2.jpg</th>\n",
       "      <td>[(2272, 1816), (2084, 1773)]</td>\n",
       "      <td>[]</td>\n",
       "      <td>[(2306, 1882), (2226, 1877), (2272, 1858), (23...</td>\n",
       "      <td>[(2342, 1887), (2332, 1880), (2037, 1860), (22...</td>\n",
       "      <td>[]</td>\n",
       "      <td>[(2342, 1887), (2306, 1882), (2332, 1880), (22...</td>\n",
       "    </tr>\n",
       "    <tr>\n",
       "      <th>4.jpg</th>\n",
       "      <td>[(2458, 3367), (60, 2535), (3088, 2503), (3347...</td>\n",
       "      <td>[(1693, 3505), (2143, 2954), (2966, 2923), (91...</td>\n",
       "      <td>[(675, 3479), (1093, 3465)]</td>\n",
       "      <td>[]</td>\n",
       "      <td>[]</td>\n",
       "      <td>[(1693, 3505), (675, 3479), (1093, 3465), (245...</td>\n",
       "    </tr>\n",
       "    <tr>\n",
       "      <th>5.jpg</th>\n",
       "      <td>[(3952, 2911), (3053, 2483), (2996, 2154), (30...</td>\n",
       "      <td>[(3488, 3218), (3570, 1342), (3366, 770), (340...</td>\n",
       "      <td>[(3301, 1796), (3170, 1790), (3246, 1711), (30...</td>\n",
       "      <td>[(3214, 1769), (3188, 1705), (3147, 1684), (33...</td>\n",
       "      <td>[(3212, 1811), (3301, 1770), (3299, 1732), (32...</td>\n",
       "      <td>[(3488, 3218), (3952, 2911), (3053, 2483), (29...</td>\n",
       "    </tr>\n",
       "  </tbody>\n",
       "</table>\n",
       "</div>"
      ],
      "text/plain": [
       "                                             adult_males  \\\n",
       "index                                                      \n",
       "0.jpg  [(2353, 3726), (3638, 3539), (4720, 3476), (41...   \n",
       "1.jpg                        [(3012, 2880), (2233, 871)]   \n",
       "2.jpg                       [(2272, 1816), (2084, 1773)]   \n",
       "4.jpg  [(2458, 3367), (60, 2535), (3088, 2503), (3347...   \n",
       "5.jpg  [(3952, 2911), (3053, 2483), (2996, 2154), (30...   \n",
       "\n",
       "                                          subadult_males  \\\n",
       "index                                                      \n",
       "0.jpg  [(1437, 3178), (4017, 3094), (5135, 2649), (63...   \n",
       "1.jpg  [(4655, 3056), (4574, 2992), (4609, 2959), (39...   \n",
       "2.jpg                                                 []   \n",
       "4.jpg  [(1693, 3505), (2143, 2954), (2966, 2923), (91...   \n",
       "5.jpg  [(3488, 3218), (3570, 1342), (3366, 770), (340...   \n",
       "\n",
       "                                           adult_females  \\\n",
       "index                                                      \n",
       "0.jpg  [(1953, 3730), (2882, 3728), (3443, 3725), (26...   \n",
       "1.jpg                                                 []   \n",
       "2.jpg  [(2306, 1882), (2226, 1877), (2272, 1858), (23...   \n",
       "4.jpg                        [(675, 3479), (1093, 3465)]   \n",
       "5.jpg  [(3301, 1796), (3170, 1790), (3246, 1711), (30...   \n",
       "\n",
       "                                               juveniles  \\\n",
       "index                                                      \n",
       "0.jpg  [(3295, 3515), (1009, 3489), (3941, 3470), (10...   \n",
       "1.jpg  [(3619, 3609), (4781, 3414), (4437, 2933), (43...   \n",
       "2.jpg  [(2342, 1887), (2332, 1880), (2037, 1860), (22...   \n",
       "4.jpg                                                 []   \n",
       "5.jpg  [(3214, 1769), (3188, 1705), (3147, 1684), (33...   \n",
       "\n",
       "                                                    pups  \\\n",
       "index                                                      \n",
       "0.jpg  [(3143, 3732), (3486, 3726), (2694, 3711), (19...   \n",
       "1.jpg                                                 []   \n",
       "2.jpg                                                 []   \n",
       "4.jpg                                                 []   \n",
       "5.jpg  [(3212, 1811), (3301, 1770), (3299, 1732), (32...   \n",
       "\n",
       "                                                   total  \n",
       "index                                                     \n",
       "0.jpg  [(3143, 3732), (1953, 3730), (2882, 3728), (34...  \n",
       "1.jpg  [(3619, 3609), (4781, 3414), (4655, 3056), (45...  \n",
       "2.jpg  [(2342, 1887), (2306, 1882), (2332, 1880), (22...  \n",
       "4.jpg  [(1693, 3505), (675, 3479), (1093, 3465), (245...  \n",
       "5.jpg  [(3488, 3218), (3952, 2911), (3053, 2483), (29...  "
      ]
     },
     "execution_count": 9,
     "metadata": {},
     "output_type": "execute_result"
    }
   ],
   "source": [
    "coordinates_df.head(5)"
   ]
  },
  {
   "cell_type": "code",
   "execution_count": 11,
   "metadata": {
    "collapsed": true
   },
   "outputs": [],
   "source": [
    "def extract_patches_with_sealions(coordinates_df):\n",
    "    patches = []\n",
    "    count = 0\n",
    "    for filename in coordinates_df.index:\n",
    "        count += 1\n",
    "        image = cv2.imread(train_path + filename)\n",
    "        for coordinates in coordinates_df.loc[filename].total:\n",
    "            thumb = image[coordinates[1]-48:coordinates[1]+48,coordinates[0]-48:coordinates[0]+48,:]\n",
    "            if np.shape(thumb) == (96, 96, 3):\n",
    "                patches.append(cv2.cvtColor(thumb, cv2.COLOR_BGR2RGB))\n",
    "        print(\"\\r%d file completes, with total %d\"%(count, len(coordinates_df)), end='')\n",
    "    return patches\n",
    "\n",
    "def extract_patches_without_sealions(coordinates_df):\n",
    "    patches = []\n",
    "    count = 0\n",
    "    for filename in coordinates_df.index:\n",
    "        sealion_coordinates_list = coordinates_df.loc[filename].total\n",
    "        image = cv2.imread(train_path + filename)\n",
    "        count += 1\n",
    "        for row in range(image.shape[0]//96):\n",
    "            for col in range(image.shape[1]//96):\n",
    "                center = (row*96+48, col*96+48)\n",
    "                flag = True\n",
    "                for thumb in sealion_coordinates_list:\n",
    "                    if math.sqrt((center[0] - thumb[1])**2 + (center[1] - thumb[0])**2) < math.sqrt(2)*96:\n",
    "                        flag = False\n",
    "                        break\n",
    "                if flag:\n",
    "                    patch_rgb = cv2.cvtColor(image[row*96:row*96+96, col*96:col*96+96], cv2.COLOR_BGR2RGB)\n",
    "                    patches.append(patch_rgb)\n",
    "        print(\"\\r%d file completes, with total %d\"%(count, len(coordinates_df)), end='')\n",
    "    return patches "
   ]
  },
  {
   "cell_type": "markdown",
   "metadata": {},
   "source": [
    "# Pipeline\n",
    "\n",
    "* positive patches extraction\n",
    "* negative patches extraction\n",
    "* train a simple logistic regression binary classifier\n",
    "* testing"
   ]
  },
  {
   "cell_type": "code",
   "execution_count": 12,
   "metadata": {},
   "outputs": [
    {
     "name": "stdout",
     "output_type": "stream",
     "text": [
      "500 file completes, with total 500"
     ]
    }
   ],
   "source": [
    "### extract pos patches\n",
    "pos_num = 500\n",
    "pos_df = pd.DataFrame(columns=[\"R\", \"G\", \"B\"])\n",
    "patches = extract_patches_with_sealions(coordinates_df=coordinates_df.sample(pos_num))\n",
    "\n",
    "print(\"\\n start extracting patches...\")\n",
    "for i in range(len(patches)):\n",
    "    patch = patches[i]\n",
    "    r = np.average(patch[:,:,0])\n",
    "    g = np.average(patch[:,:,1])\n",
    "    b = np.average(patch[:,:,2])\n",
    "    pos_df = pos_df.append({'R':r, \"G\":g, \"B\":b}, ignore_index=True)\n",
    "    print(\"\\r%d patch completes, with total %d\"%(i, len(patches)), end='')\n",
    "\n",
    "pos_df['class'] = 1"
   ]
  },
  {
   "cell_type": "code",
   "execution_count": 13,
   "metadata": {},
   "outputs": [
    {
     "name": "stdout",
     "output_type": "stream",
     "text": [
      "30 file completes, with total 30\n",
      " start extracting patches...\n",
      "56997 patch completes, with total 56998"
     ]
    }
   ],
   "source": [
    "### extract neg patches\n",
    "neg_num = 30\n",
    "neg_df = pd.DataFrame(columns=[\"R\", \"G\", \"B\"])\n",
    "patches = extract_patches_without_sealions(coordinates_df=coordinates_df.sample(30))\n",
    "\n",
    "print(\"\\n start extracting patches...\")\n",
    "for i in range(len(patches)):\n",
    "    patch = patches[i]\n",
    "    r = np.average(patch[:,:,0])\n",
    "    g = np.average(patch[:,:,1])\n",
    "    b = np.average(patch[:,:,2])\n",
    "    neg_df = neg_df.append({'R':r, \"G\":g, \"B\":b}, ignore_index=True)\n",
    "    print(\"\\r%d patch completes, with total %d\"%(i, len(patches)), end='')\n",
    "\n",
    "neg_df['class'] = 0"
   ]
  },
  {
   "cell_type": "code",
   "execution_count": 14,
   "metadata": {
    "collapsed": true
   },
   "outputs": [],
   "source": [
    "# construct a single data frame\n",
    "total = pos_df.append(neg_df)"
   ]
  },
  {
   "cell_type": "code",
   "execution_count": 16,
   "metadata": {},
   "outputs": [
    {
     "name": "stdout",
     "output_type": "stream",
     "text": [
      "recall score is 0.9928194700387621\n",
      "precision score is 0.45470155117720673\n"
     ]
    }
   ],
   "source": [
    "### build logistic regression \n",
    "from sklearn import linear_model\n",
    "from sklearn import model_selection\n",
    "from sklearn.metrics import recall_score\n",
    "from sklearn.metrics import precision_score\n",
    "\n",
    "# Unfortunately I did not find a built-in method in sklearn to change the threshold of logistic regression\n",
    "# In order to optimize recall, I need to decrease the threshold\n",
    "def ClassifyWithThreshold(probabilities, threshold):\n",
    "    return [+1 if x>=threshold else 0 for x in probabilities]\n",
    "\n",
    "target = 'class'\n",
    "variables = total.columns[total.columns != target]\n",
    "\n",
    "x_train, x_test,y_train, y_test = \\\n",
    "model_selection.train_test_split(total[[\"B\", \"G\", 'R']], total[target], test_size = 0.33, random_state=11)\n",
    "\n",
    "logistic = linear_model.LogisticRegression(C=1e-7, random_state=1234)\n",
    "logistic.fit(x_train, y_train)\n",
    "\n",
    "y_pred = ClassifyWithThreshold(logistic.predict_proba(x_test)[:,1], 0.3)\n",
    "\n",
    "print(\"recall score is {}\".format(recall_score(y_test, y_pred)))\n",
    "print(\"precision score is {}\".format(precision_score(y_test, y_pred)))"
   ]
  },
  {
   "cell_type": "markdown",
   "metadata": {},
   "source": [
    "# Test the module with a new data set"
   ]
  },
  {
   "cell_type": "code",
   "execution_count": 17,
   "metadata": {},
   "outputs": [
    {
     "name": "stdout",
     "output_type": "stream",
     "text": [
      "10 file completes, with total 10\n",
      " start extracting patches...\n",
      "493 patch completes, with total 494"
     ]
    }
   ],
   "source": [
    "### extract pos patches\n",
    "pos_num = 10\n",
    "pos_df = pd.DataFrame(columns=[\"R\", \"G\", \"B\"])\n",
    "patches = extract_patches_with_sealions(coordinates_df=coordinates_df.sample(pos_num))\n",
    "\n",
    "print(\"\\n start extracting patches...\")\n",
    "for i in range(len(patches)):\n",
    "    patch = patches[i]\n",
    "    r = np.average(patch[:,:,0])\n",
    "    g = np.average(patch[:,:,1])\n",
    "    b = np.average(patch[:,:,2])\n",
    "    pos_df = pos_df.append({'R':r, \"G\":g, \"B\":b}, ignore_index=True)\n",
    "    print(\"\\r%d patch completes, with total %d\"%(i, len(patches)), end='')\n",
    "\n",
    "pos_df['class'] = 1"
   ]
  },
  {
   "cell_type": "code",
   "execution_count": 18,
   "metadata": {},
   "outputs": [
    {
     "name": "stdout",
     "output_type": "stream",
     "text": [
      "30 file completes, with total 30\n",
      " start extracting patches...\n",
      "58391 patch completes, with total 58392"
     ]
    }
   ],
   "source": [
    "### extract neg patches\n",
    "neg_num = 10\n",
    "neg_df = pd.DataFrame(columns=[\"R\", \"G\", \"B\"])\n",
    "patches = extract_patches_without_sealions(coordinates_df=coordinates_df.sample(30))\n",
    "\n",
    "print(\"\\n start extracting patches...\")\n",
    "for i in range(len(patches)):\n",
    "    patch = patches[i]\n",
    "    r = np.average(patch[:,:,0])\n",
    "    g = np.average(patch[:,:,1])\n",
    "    b = np.average(patch[:,:,2])\n",
    "    neg_df = neg_df.append({'R':r, \"G\":g, \"B\":b}, ignore_index=True)\n",
    "    print(\"\\r%d patch completes, with total %d\"%(i, len(patches)), end='')\n",
    "\n",
    "neg_df['class'] = 0"
   ]
  },
  {
   "cell_type": "code",
   "execution_count": 19,
   "metadata": {
    "collapsed": true
   },
   "outputs": [],
   "source": [
    "total = pos_df.append(neg_df)"
   ]
  },
  {
   "cell_type": "code",
   "execution_count": 24,
   "metadata": {},
   "outputs": [
    {
     "name": "stdout",
     "output_type": "stream",
     "text": [
      "recall score is 0.9878542510121457\n",
      "precision score is 0.008553300382094156\n"
     ]
    }
   ],
   "source": [
    "target = 'class'\n",
    "variables = total.columns[total.columns != target]\n",
    "y = total[target]\n",
    "y_pred = ClassifyWithThreshold(logistic.predict_proba(total[variables])[:,1], 0.3)\n",
    "\n",
    "print(\"recall score is {}\".format(recall_score(y, y_pred)))\n",
    "print(\"precision score is {}\".format(precision_score(y, y_pred)))"
   ]
  }
 ],
 "metadata": {
  "kernelspec": {
   "display_name": "Python 3",
   "language": "python",
   "name": "python3"
  },
  "language_info": {
   "codemirror_mode": {
    "name": "ipython",
    "version": 3
   },
   "file_extension": ".py",
   "mimetype": "text/x-python",
   "name": "python",
   "nbconvert_exporter": "python",
   "pygments_lexer": "ipython3",
   "version": "3.6.3"
  }
 },
 "nbformat": 4,
 "nbformat_minor": 2
}
