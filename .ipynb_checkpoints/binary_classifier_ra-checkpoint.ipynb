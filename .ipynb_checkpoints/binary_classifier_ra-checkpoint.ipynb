{
 "cells": [
  {
   "cell_type": "code",
   "execution_count": 1,
   "metadata": {},
   "outputs": [
    {
     "name": "stderr",
     "output_type": "stream",
     "text": [
      "c:\\users\\vincenzo\\appdata\\local\\programs\\python\\python35\\lib\\site-packages\\h5py\\__init__.py:36: FutureWarning: Conversion of the second argument of issubdtype from `float` to `np.floating` is deprecated. In future, it will be treated as `np.float64 == np.dtype(float).type`.\n",
      "  from ._conv import register_converters as _register_converters\n",
      "Using TensorFlow backend.\n"
     ]
    }
   ],
   "source": [
    "# Imports\n",
    "import gc\n",
    "import numpy as np\n",
    "import cv2\n",
    "import pandas as pd\n",
    "import random\n",
    "from keras.models import Sequential\n",
    "from keras.models import model_from_json\n",
    "import os\n",
    "import matplotlib.pyplot as plt\n",
    "import skimage.feature\n",
    "import keras\n",
    "from keras.layers import Dense, Dropout, Flatten, Convolution2D, MaxPooling2D\n",
    "from keras.preprocessing.image import ImageDataGenerator\n",
    "from keras.callbacks import LearningRateScheduler\n",
    "from keras.utils.training_utils import multi_gpu_model\n",
    "from keras.optimizers import Adam\n",
    "from sklearn.metrics import roc_auc_score\n",
    "from sklearn.model_selection import train_test_split\n",
    "from sklearn.preprocessing import LabelBinarizer\n",
    "import keras\n",
    "from keras.models import Sequential, load_model\n",
    "from keras.layers import Dense, Dropout, Activation, Flatten, Conv2D, MaxPooling2D, Lambda, Cropping2D\n",
    "from keras.utils import np_utils\n",
    "%matplotlib inline"
   ]
  },
  {
   "cell_type": "code",
   "execution_count": 2,
   "metadata": {
    "collapsed": true
   },
   "outputs": [],
   "source": [
    "# We define in advance constants to build the model\n",
    "\n",
    "INPUT_SHAPE = (96, 96, 3)\n",
    "OUTPUT_SIZE = 2\n",
    "\n",
    "LEARNING_RATE = 0.0001\n",
    "OPTIMIZER = keras.optimizers.Adam()\n",
    "LOSS = 'binary_crossentropy'\n",
    "METRIC = 'accuracy'\n",
    "\n",
    "EPOCHS = 100\n",
    "VALIDATION_SPLIT = 0.2\n",
    "BATCH_SIZE = 50\n",
    "\n",
    "MODEL_PATH = \"./binary_classifier/net_0_model.json\"\n",
    "WEIGHTS_PATH = \"./binary_classifier/net_0_weights.h5\""
   ]
  },
  {
   "cell_type": "code",
   "execution_count": 3,
   "metadata": {
    "collapsed": true
   },
   "outputs": [],
   "source": [
    "# Use a random seed\n",
    "random.seed(42)"
   ]
  },
  {
   "cell_type": "code",
   "execution_count": 4,
   "metadata": {
    "collapsed": true
   },
   "outputs": [],
   "source": [
    "# Load patches for sea lions\n",
    "def extract_patches(path, size, label):\n",
    "    data_set = []\n",
    "    for file in range(0, size):\n",
    "        patch = cv2.imread(\"./patches/\" + path + \"/\" + str(file) + \".jpg\")\n",
    "        data_set.append(list((patch, label)))\n",
    "    return data_set"
   ]
  },
  {
   "cell_type": "code",
   "execution_count": 5,
   "metadata": {
    "collapsed": true
   },
   "outputs": [],
   "source": [
    "# Extract train patches\n",
    "data_set_sea_lions_train = extract_patches(\"sealions_train\", 62652, \"sea lion\")\n",
    "data_set_background_train = extract_patches(\"background_train\", 62652, \"background\")"
   ]
  },
  {
   "cell_type": "code",
   "execution_count": 6,
   "metadata": {
    "collapsed": true
   },
   "outputs": [],
   "source": [
    "# Build train set\n",
    "train_set = data_set_sea_lions_train + data_set_background_train\n",
    "random.shuffle(train_set)\n",
    "X_train = []\n",
    "Y_train = []\n",
    "for data in train_set:\n",
    "    X_train.append(data[0])\n",
    "    if data[1] == \"sea lion\":\n",
    "        Y_train.append([1, 0])\n",
    "    elif data[1] == \"background\":\n",
    "        Y_train.append([0, 1])\n",
    "X_train = np.array(X_train, copy=False)\n",
    "Y_train = np.array(Y_train, copy=False)\n",
    "\n",
    "# Free memory\n",
    "data_set_sea_lions_train = []\n",
    "data_set_background_train = []\n",
    "train_set = []\n",
    "gc.collect()\n",
    "\n",
    "# Convert data types and normalize values\n",
    "X_train = X_train.astype('float32')\n",
    "X_train /= 255"
   ]
  },
  {
   "cell_type": "code",
   "execution_count": 7,
   "metadata": {
    "collapsed": true
   },
   "outputs": [],
   "source": [
    "# Build parallel model (multi gpu)\n",
    "\n",
    "model = Sequential()\n",
    "# First layer\n",
    "model.add(Convolution2D(8, (5, 5), activation='relu', padding='valid', input_shape=INPUT_SHAPE))\n",
    "model.add(MaxPooling2D(pool_size=(2, 2)))\n",
    "# model.add(Dropout(0.25))\n",
    "\n",
    "# Second layer\n",
    "model.add(Convolution2D(5, (3, 3), activation='relu', padding='valid'))\n",
    "model.add(MaxPooling2D(pool_size=(2, 2)))\n",
    "# model.add(Dropout(0.25))\n",
    "\n",
    "# Third layer\n",
    "model.add(Convolution2D(5, (3, 3), activation='relu', padding='valid'))\n",
    "model.add(MaxPooling2D(pool_size=(2, 2)))\n",
    "# model.add(Dropout(0.25))\n",
    "\n",
    "# Fourth layer\n",
    "model.add(Convolution2D(10, (3, 3), activation='relu', padding='valid'))\n",
    "model.add(MaxPooling2D(pool_size=(2, 2)))\n",
    "# model.add(Dropout(0.25))\n",
    "\n",
    "model.add(Flatten())\n",
    "\n",
    "# model.add(Dropout(0.5))\n",
    "model.add(Dense(OUTPUT_SIZE, activation='softmax'))\n",
    "\n",
    "parallel_model = multi_gpu_model(model, gpus=2)\n",
    "parallel_model.compile(loss=LOSS, optimizer=OPTIMIZER, metrics=[METRIC])"
   ]
  },
  {
   "cell_type": "code",
   "execution_count": 8,
   "metadata": {},
   "outputs": [
    {
     "name": "stdout",
     "output_type": "stream",
     "text": [
      "Train on 100243 samples, validate on 25061 samples\n",
      "Epoch 1/100\n",
      "100243/100243 [==============================] - 83s 826us/step - loss: 0.3481 - acc: 0.8404 - val_loss: 0.2336 - val_acc: 0.9109\n",
      "Epoch 2/100\n",
      "100243/100243 [==============================] - 60s 598us/step - loss: 0.2143 - acc: 0.9180 - val_loss: 0.1972 - val_acc: 0.9241\n",
      "Epoch 3/100\n",
      "100243/100243 [==============================] - 58s 581us/step - loss: 0.1912 - acc: 0.9285 - val_loss: 0.1708 - val_acc: 0.9351\n",
      "Epoch 4/100\n",
      "100243/100243 [==============================] - 57s 567us/step - loss: 0.1787 - acc: 0.9337 - val_loss: 0.1743 - val_acc: 0.9377\n",
      "Epoch 5/100\n",
      "100243/100243 [==============================] - 59s 584us/step - loss: 0.1738 - acc: 0.9363 - val_loss: 0.1629 - val_acc: 0.9401\n",
      "Epoch 6/100\n",
      "100243/100243 [==============================] - 58s 579us/step - loss: 0.1683 - acc: 0.9387 - val_loss: 0.1875 - val_acc: 0.9303\n",
      "Epoch 7/100\n",
      "100243/100243 [==============================] - 57s 573us/step - loss: 0.1670 - acc: 0.9400 - val_loss: 0.1599 - val_acc: 0.9425\n",
      "Epoch 8/100\n",
      "100243/100243 [==============================] - 57s 573us/step - loss: 0.1617 - acc: 0.9420 - val_loss: 0.1530 - val_acc: 0.9451\n",
      "Epoch 9/100\n",
      "100243/100243 [==============================] - 58s 576us/step - loss: 0.1579 - acc: 0.9432 - val_loss: 0.1596 - val_acc: 0.9401\n",
      "Epoch 10/100\n",
      "100243/100243 [==============================] - 58s 576us/step - loss: 0.1569 - acc: 0.9431 - val_loss: 0.1552 - val_acc: 0.9431\n",
      "Epoch 11/100\n",
      "100243/100243 [==============================] - 59s 586us/step - loss: 0.1536 - acc: 0.9440 - val_loss: 0.1562 - val_acc: 0.9436\n",
      "Epoch 12/100\n",
      "100243/100243 [==============================] - 58s 575us/step - loss: 0.1536 - acc: 0.9443 - val_loss: 0.1464 - val_acc: 0.9481\n",
      "Epoch 13/100\n",
      "100243/100243 [==============================] - 57s 567us/step - loss: 0.1486 - acc: 0.9467 - val_loss: 0.1538 - val_acc: 0.9437\n",
      "Epoch 14/100\n",
      "100243/100243 [==============================] - 58s 576us/step - loss: 0.1471 - acc: 0.9468 - val_loss: 0.1459 - val_acc: 0.9476\n",
      "Epoch 15/100\n",
      "100243/100243 [==============================] - 57s 573us/step - loss: 0.1432 - acc: 0.9494 - val_loss: 0.1412 - val_acc: 0.9486\n",
      "Epoch 16/100\n",
      "100243/100243 [==============================] - 57s 572us/step - loss: 0.1398 - acc: 0.9496 - val_loss: 0.1782 - val_acc: 0.9333\n",
      "Epoch 17/100\n",
      "100243/100243 [==============================] - 58s 575us/step - loss: 0.1376 - acc: 0.9510 - val_loss: 0.1443 - val_acc: 0.9469\n",
      "Epoch 18/100\n",
      "100243/100243 [==============================] - 58s 574us/step - loss: 0.1337 - acc: 0.9526 - val_loss: 0.1396 - val_acc: 0.9492\n",
      "Epoch 19/100\n",
      "100243/100243 [==============================] - 58s 577us/step - loss: 0.1312 - acc: 0.9527 - val_loss: 0.1297 - val_acc: 0.9542\n",
      "Epoch 20/100\n",
      "100243/100243 [==============================] - 57s 568us/step - loss: 0.1281 - acc: 0.9544 - val_loss: 0.1237 - val_acc: 0.9559\n",
      "Epoch 21/100\n",
      "100243/100243 [==============================] - 57s 570us/step - loss: 0.1245 - acc: 0.9562 - val_loss: 0.1259 - val_acc: 0.9561\n",
      "Epoch 22/100\n",
      "100243/100243 [==============================] - 57s 570us/step - loss: 0.1234 - acc: 0.9564 - val_loss: 0.1295 - val_acc: 0.9546\n",
      "Epoch 23/100\n",
      "100243/100243 [==============================] - 55s 552us/step - loss: 0.1214 - acc: 0.9570 - val_loss: 0.1221 - val_acc: 0.9577\n",
      "Epoch 24/100\n",
      "100243/100243 [==============================] - 58s 583us/step - loss: 0.1210 - acc: 0.9574 - val_loss: 0.1170 - val_acc: 0.9591\n",
      "Epoch 25/100\n",
      "100243/100243 [==============================] - 55s 546us/step - loss: 0.1183 - acc: 0.9587 - val_loss: 0.1189 - val_acc: 0.9589\n",
      "Epoch 26/100\n",
      "100243/100243 [==============================] - 56s 561us/step - loss: 0.1162 - acc: 0.9584 - val_loss: 0.1112 - val_acc: 0.9610\n",
      "Epoch 27/100\n",
      "100243/100243 [==============================] - 58s 579us/step - loss: 0.1162 - acc: 0.9586 - val_loss: 0.1125 - val_acc: 0.9602\n",
      "Epoch 28/100\n",
      "100243/100243 [==============================] - 58s 574us/step - loss: 0.1123 - acc: 0.9603 - val_loss: 0.1269 - val_acc: 0.9549\n",
      "Epoch 29/100\n",
      "100243/100243 [==============================] - 58s 579us/step - loss: 0.1115 - acc: 0.9607 - val_loss: 0.1172 - val_acc: 0.9580\n",
      "Epoch 30/100\n",
      "100243/100243 [==============================] - 58s 579us/step - loss: 0.1111 - acc: 0.9615 - val_loss: 0.1426 - val_acc: 0.9479\n",
      "Epoch 31/100\n",
      "100243/100243 [==============================] - 58s 579us/step - loss: 0.1108 - acc: 0.9608 - val_loss: 0.1339 - val_acc: 0.9513\n",
      "Epoch 32/100\n",
      "100243/100243 [==============================] - 59s 585us/step - loss: 0.1081 - acc: 0.9620 - val_loss: 0.1144 - val_acc: 0.9603\n",
      "Epoch 33/100\n",
      "100243/100243 [==============================] - 58s 576us/step - loss: 0.1078 - acc: 0.9619 - val_loss: 0.1102 - val_acc: 0.9613\n",
      "Epoch 34/100\n",
      "100243/100243 [==============================] - 58s 583us/step - loss: 0.1061 - acc: 0.9628 - val_loss: 0.1074 - val_acc: 0.9621\n",
      "Epoch 35/100\n",
      "100243/100243 [==============================] - 57s 566us/step - loss: 0.1052 - acc: 0.9631 - val_loss: 0.1068 - val_acc: 0.9624\n",
      "Epoch 36/100\n",
      "100243/100243 [==============================] - 57s 572us/step - loss: 0.1040 - acc: 0.9640 - val_loss: 0.1480 - val_acc: 0.9452\n",
      "Epoch 37/100\n",
      "100243/100243 [==============================] - 57s 572us/step - loss: 0.1029 - acc: 0.9638 - val_loss: 0.1042 - val_acc: 0.9628\n",
      "Epoch 38/100\n",
      "100243/100243 [==============================] - 58s 578us/step - loss: 0.1022 - acc: 0.9643 - val_loss: 0.1014 - val_acc: 0.9632\n",
      "Epoch 39/100\n",
      "100243/100243 [==============================] - 57s 564us/step - loss: 0.1017 - acc: 0.9645 - val_loss: 0.1013 - val_acc: 0.9634\n",
      "Epoch 40/100\n",
      "100243/100243 [==============================] - 57s 573us/step - loss: 0.1008 - acc: 0.9653 - val_loss: 0.1040 - val_acc: 0.9634\n",
      "Epoch 41/100\n",
      "100243/100243 [==============================] - 57s 569us/step - loss: 0.0980 - acc: 0.9657 - val_loss: 0.1117 - val_acc: 0.9614\n",
      "Epoch 42/100\n",
      "100243/100243 [==============================] - 57s 571us/step - loss: 0.0981 - acc: 0.9659 - val_loss: 0.1000 - val_acc: 0.9660\n",
      "Epoch 43/100\n",
      "100243/100243 [==============================] - 56s 556us/step - loss: 0.0992 - acc: 0.9653 - val_loss: 0.0993 - val_acc: 0.9641\n",
      "Epoch 44/100\n",
      "100243/100243 [==============================] - 57s 569us/step - loss: 0.0969 - acc: 0.9664 - val_loss: 0.1089 - val_acc: 0.9624\n",
      "Epoch 45/100\n",
      "100243/100243 [==============================] - 57s 570us/step - loss: 0.0973 - acc: 0.9661 - val_loss: 0.0991 - val_acc: 0.9642\n",
      "Epoch 46/100\n",
      "100243/100243 [==============================] - 58s 580us/step - loss: 0.0966 - acc: 0.9664 - val_loss: 0.1146 - val_acc: 0.9583\n",
      "Epoch 47/100\n",
      "100243/100243 [==============================] - 57s 566us/step - loss: 0.0948 - acc: 0.9672 - val_loss: 0.1020 - val_acc: 0.9629\n",
      "Epoch 48/100\n",
      "100243/100243 [==============================] - 56s 560us/step - loss: 0.0926 - acc: 0.9680 - val_loss: 0.1114 - val_acc: 0.9623\n",
      "Epoch 49/100\n",
      "100243/100243 [==============================] - 55s 553us/step - loss: 0.0941 - acc: 0.9672 - val_loss: 0.1014 - val_acc: 0.9646\n",
      "Epoch 50/100\n",
      "100243/100243 [==============================] - 57s 568us/step - loss: 0.0920 - acc: 0.9684 - val_loss: 0.1074 - val_acc: 0.9612\n",
      "Epoch 51/100\n",
      "100243/100243 [==============================] - 57s 569us/step - loss: 0.0923 - acc: 0.9680 - val_loss: 0.1023 - val_acc: 0.9643\n",
      "Epoch 52/100\n",
      "100243/100243 [==============================] - 54s 543us/step - loss: 0.0919 - acc: 0.9675 - val_loss: 0.0966 - val_acc: 0.9663\n",
      "Epoch 53/100\n",
      "100243/100243 [==============================] - 54s 537us/step - loss: 0.0900 - acc: 0.9688 - val_loss: 0.0893 - val_acc: 0.9676\n",
      "Epoch 54/100\n",
      "100243/100243 [==============================] - 53s 526us/step - loss: 0.0912 - acc: 0.9684 - val_loss: 0.1122 - val_acc: 0.9575\n",
      "Epoch 55/100\n",
      "100243/100243 [==============================] - 53s 526us/step - loss: 0.0895 - acc: 0.9689 - val_loss: 0.0994 - val_acc: 0.9652\n",
      "Epoch 56/100\n",
      "100243/100243 [==============================] - 53s 526us/step - loss: 0.0900 - acc: 0.9687 - val_loss: 0.0942 - val_acc: 0.9667\n",
      "Epoch 57/100\n",
      "100243/100243 [==============================] - 53s 524us/step - loss: 0.0885 - acc: 0.9694 - val_loss: 0.0960 - val_acc: 0.9666\n"
     ]
    },
    {
     "name": "stdout",
     "output_type": "stream",
     "text": [
      "Epoch 58/100\n",
      "100243/100243 [==============================] - 52s 523us/step - loss: 0.0884 - acc: 0.9688 - val_loss: 0.0931 - val_acc: 0.9664\n",
      "Epoch 59/100\n",
      "100243/100243 [==============================] - 53s 525us/step - loss: 0.0888 - acc: 0.9692 - val_loss: 0.0943 - val_acc: 0.9652\n",
      "Epoch 60/100\n",
      "100243/100243 [==============================] - 53s 531us/step - loss: 0.0877 - acc: 0.9696 - val_loss: 0.0880 - val_acc: 0.9692\n",
      "Epoch 61/100\n",
      "100243/100243 [==============================] - 53s 525us/step - loss: 0.0868 - acc: 0.9695 - val_loss: 0.0863 - val_acc: 0.9699\n",
      "Epoch 62/100\n",
      "100243/100243 [==============================] - 52s 523us/step - loss: 0.0882 - acc: 0.9690 - val_loss: 0.1014 - val_acc: 0.9639\n",
      "Epoch 63/100\n",
      "100243/100243 [==============================] - 52s 523us/step - loss: 0.0857 - acc: 0.9695 - val_loss: 0.0968 - val_acc: 0.9668\n",
      "Epoch 64/100\n",
      "100243/100243 [==============================] - 52s 523us/step - loss: 0.0863 - acc: 0.9701 - val_loss: 0.1033 - val_acc: 0.9632\n",
      "Epoch 65/100\n",
      "100243/100243 [==============================] - 53s 525us/step - loss: 0.0857 - acc: 0.9703 - val_loss: 0.0882 - val_acc: 0.9698\n",
      "Epoch 66/100\n",
      "100243/100243 [==============================] - 52s 522us/step - loss: 0.0856 - acc: 0.9701 - val_loss: 0.0917 - val_acc: 0.9674\n",
      "Epoch 67/100\n",
      "100243/100243 [==============================] - 56s 561us/step - loss: 0.0854 - acc: 0.9702 - val_loss: 0.1114 - val_acc: 0.9602\n",
      "Epoch 68/100\n",
      "100243/100243 [==============================] - 57s 573us/step - loss: 0.0844 - acc: 0.9706 - val_loss: 0.0906 - val_acc: 0.9675\n",
      "Epoch 69/100\n",
      "100243/100243 [==============================] - 57s 566us/step - loss: 0.0850 - acc: 0.9704 - val_loss: 0.0875 - val_acc: 0.9698\n",
      "Epoch 70/100\n",
      "100243/100243 [==============================] - 57s 567us/step - loss: 0.0854 - acc: 0.9697 - val_loss: 0.1038 - val_acc: 0.9633\n",
      "Epoch 71/100\n",
      "100243/100243 [==============================] - 58s 577us/step - loss: 0.0840 - acc: 0.9709 - val_loss: 0.0911 - val_acc: 0.9671\n",
      "Epoch 72/100\n",
      "100243/100243 [==============================] - 57s 570us/step - loss: 0.0845 - acc: 0.9706 - val_loss: 0.0872 - val_acc: 0.9688\n",
      "Epoch 73/100\n",
      "100243/100243 [==============================] - 57s 569us/step - loss: 0.0837 - acc: 0.9709 - val_loss: 0.0867 - val_acc: 0.9690\n",
      "Epoch 74/100\n",
      "100243/100243 [==============================] - 57s 570us/step - loss: 0.0828 - acc: 0.9711 - val_loss: 0.0961 - val_acc: 0.9655\n",
      "Epoch 75/100\n",
      "100243/100243 [==============================] - 57s 573us/step - loss: 0.0822 - acc: 0.9712 - val_loss: 0.0835 - val_acc: 0.9703\n",
      "Epoch 76/100\n",
      "100243/100243 [==============================] - 57s 572us/step - loss: 0.0829 - acc: 0.9709 - val_loss: 0.0924 - val_acc: 0.9668\n",
      "Epoch 77/100\n",
      "100243/100243 [==============================] - 58s 574us/step - loss: 0.0812 - acc: 0.9719 - val_loss: 0.0859 - val_acc: 0.9706\n",
      "Epoch 78/100\n",
      "100243/100243 [==============================] - 59s 585us/step - loss: 0.0824 - acc: 0.9714 - val_loss: 0.1090 - val_acc: 0.9609\n",
      "Epoch 79/100\n",
      "100243/100243 [==============================] - 57s 573us/step - loss: 0.0814 - acc: 0.9714 - val_loss: 0.0957 - val_acc: 0.9653\n",
      "Epoch 80/100\n",
      "100243/100243 [==============================] - 57s 569us/step - loss: 0.0816 - acc: 0.9716 - val_loss: 0.1010 - val_acc: 0.9648\n",
      "Epoch 81/100\n",
      "100243/100243 [==============================] - 57s 573us/step - loss: 0.0812 - acc: 0.9718 - val_loss: 0.1118 - val_acc: 0.9612\n",
      "Epoch 82/100\n",
      "100243/100243 [==============================] - 57s 565us/step - loss: 0.0813 - acc: 0.9719 - val_loss: 0.0883 - val_acc: 0.9691\n",
      "Epoch 83/100\n",
      "100243/100243 [==============================] - 58s 581us/step - loss: 0.0816 - acc: 0.9715 - val_loss: 0.0891 - val_acc: 0.9685\n",
      "Epoch 84/100\n",
      "100243/100243 [==============================] - 58s 578us/step - loss: 0.0806 - acc: 0.9720 - val_loss: 0.0953 - val_acc: 0.9657\n",
      "Epoch 85/100\n",
      "100243/100243 [==============================] - 58s 574us/step - loss: 0.0794 - acc: 0.9728 - val_loss: 0.0916 - val_acc: 0.9669\n",
      "Epoch 86/100\n",
      "100243/100243 [==============================] - 57s 570us/step - loss: 0.0804 - acc: 0.9717 - val_loss: 0.0848 - val_acc: 0.9698\n",
      "Epoch 87/100\n",
      "100243/100243 [==============================] - 58s 576us/step - loss: 0.0806 - acc: 0.9715 - val_loss: 0.0907 - val_acc: 0.9678\n",
      "Epoch 88/100\n",
      "100243/100243 [==============================] - 57s 573us/step - loss: 0.0779 - acc: 0.9725 - val_loss: 0.0860 - val_acc: 0.9701\n",
      "Epoch 89/100\n",
      "100243/100243 [==============================] - 57s 573us/step - loss: 0.0796 - acc: 0.9719 - val_loss: 0.0846 - val_acc: 0.9712\n",
      "Epoch 90/100\n",
      "100243/100243 [==============================] - 56s 558us/step - loss: 0.0783 - acc: 0.9729 - val_loss: 0.0912 - val_acc: 0.9676\n",
      "Epoch 91/100\n",
      "100243/100243 [==============================] - 56s 561us/step - loss: 0.0779 - acc: 0.9730 - val_loss: 0.0933 - val_acc: 0.9674\n",
      "Epoch 92/100\n",
      "100243/100243 [==============================] - 57s 566us/step - loss: 0.0781 - acc: 0.9726 - val_loss: 0.0936 - val_acc: 0.9664\n",
      "Epoch 93/100\n",
      "100243/100243 [==============================] - 57s 573us/step - loss: 0.0800 - acc: 0.9721 - val_loss: 0.0970 - val_acc: 0.9655\n",
      "Epoch 94/100\n",
      "100243/100243 [==============================] - 56s 562us/step - loss: 0.0780 - acc: 0.9729 - val_loss: 0.0832 - val_acc: 0.9710\n",
      "Epoch 95/100\n",
      "100243/100243 [==============================] - 57s 567us/step - loss: 0.0783 - acc: 0.9724 - val_loss: 0.0817 - val_acc: 0.9710\n",
      "Epoch 96/100\n",
      "100243/100243 [==============================] - 57s 568us/step - loss: 0.0774 - acc: 0.9725 - val_loss: 0.0922 - val_acc: 0.9668\n",
      "Epoch 97/100\n",
      "100243/100243 [==============================] - 56s 560us/step - loss: 0.0788 - acc: 0.9722 - val_loss: 0.0948 - val_acc: 0.9658\n",
      "Epoch 98/100\n",
      "100243/100243 [==============================] - 57s 571us/step - loss: 0.0777 - acc: 0.9727 - val_loss: 0.0836 - val_acc: 0.9714\n",
      "Epoch 99/100\n",
      "100243/100243 [==============================] - 57s 566us/step - loss: 0.0770 - acc: 0.9728 - val_loss: 0.0857 - val_acc: 0.9699\n",
      "Epoch 100/100\n",
      "100243/100243 [==============================] - 57s 568us/step - loss: 0.0768 - acc: 0.9733 - val_loss: 0.0891 - val_acc: 0.9679\n"
     ]
    }
   ],
   "source": [
    "# Train (multi gpu)\n",
    "\n",
    "# Fit model on training data\n",
    "history = parallel_model.fit(X_train, Y_train, batch_size=BATCH_SIZE, epochs=EPOCHS, validation_split=VALIDATION_SPLIT, verbose=1)\n"
   ]
  },
  {
   "cell_type": "code",
   "execution_count": 9,
   "metadata": {},
   "outputs": [
    {
     "data": {
      "image/png": "[encoded data removed]",
      "text/plain": [
       "<matplotlib.figure.Figure at 0x1dd19660390>"
      ]
     },
     "metadata": {},
     "output_type": "display_data"
    },
    {
     "data": {
      "image/png": "[encoded data removed]",
      "text/plain": [
       "<matplotlib.figure.Figure at 0x1dd19658668>"
      ]
     },
     "metadata": {},
     "output_type": "display_data"
    }
   ],
   "source": [
    "plt.plot(history.history['acc'])\n",
    "plt.plot(history.history['val_acc'])\n",
    "plt.title('model accuracy')\n",
    "plt.ylabel('accuracy')\n",
    "plt.xlabel('epoch')\n",
    "plt.legend(['train', 'validation'], loc='upper left')\n",
    "plt.show()\n",
    "# summarize history for loss\n",
    "plt.plot(history.history['loss'])\n",
    "plt.plot(history.history['val_loss'])\n",
    "plt.title('model loss')\n",
    "plt.ylabel('loss')\n",
    "plt.xlabel('epoch')\n",
    "plt.legend(['train', 'validation'], loc='upper left')\n",
    "plt.show()"
   ]
  },
  {
   "cell_type": "code",
   "execution_count": 10,
   "metadata": {},
   "outputs": [
    {
     "data": {
      "text/plain": [
       "11824"
      ]
     },
     "execution_count": 10,
     "metadata": {},
     "output_type": "execute_result"
    }
   ],
   "source": [
    "# Save trained model (multi gpu)\n",
    "\n",
    "# serialize model to JSON\n",
    "# model_json = parallel_model.to_json()\n",
    "# with open(MODEL_PATH, \"w\") as json_file:\n",
    "#     json_file.write(model_json)\n",
    "# serialize weights to HDF5\n",
    "parallel_model.save_weights(WEIGHTS_PATH)\n",
    "\n",
    "# Free memory\n",
    "X_train = []\n",
    "Y_train = []\n",
    "gc.collect()"
   ]
  },
  {
   "cell_type": "code",
   "execution_count": 11,
   "metadata": {
    "collapsed": true
   },
   "outputs": [],
   "source": [
    "# Extract test patches\n",
    "\n",
    "data_set_sea_lions_test = extract_patches(\"sealions_test\", 17634, \"sea lion\")\n",
    "data_set_background_test = extract_patches(\"background_test\", 17634, \"background\")"
   ]
  },
  {
   "cell_type": "code",
   "execution_count": 12,
   "metadata": {
    "collapsed": true
   },
   "outputs": [],
   "source": [
    "# Build test set\n",
    "test_set = data_set_sea_lions_test + data_set_background_test\n",
    "random.shuffle(test_set)\n",
    "X_test = []\n",
    "Y_test = []\n",
    "for data in test_set:\n",
    "    X_test.append(data[0])\n",
    "    if data[1] == \"sea lion\":\n",
    "        Y_test.append([1, 0])\n",
    "    elif data[1] == \"background\":\n",
    "        Y_test.append([0, 1])\n",
    "X_test = np.array(X_test, copy=False)\n",
    "Y_test = np.array(Y_test, copy=False)\n",
    "\n",
    "# Free memory\n",
    "data_set_sea_lions_test = []\n",
    "data_set_background_test = []\n",
    "test_set = []\n",
    "gc.collect()\n",
    "\n",
    "# Convert data types and normalize values\n",
    "X_test = X_test.astype('float32')\n",
    "X_test /= 255"
   ]
  },
  {
   "cell_type": "code",
   "execution_count": 13,
   "metadata": {},
   "outputs": [
    {
     "name": "stdout",
     "output_type": "stream",
     "text": [
      "35268/35268 [==============================] - 9s 267us/step\n",
      "acc: 96.60%\n"
     ]
    }
   ],
   "source": [
    "# Test (multi gpu)\n",
    "\n",
    "# Evaluate model on test data\n",
    "loss_and_metrics = parallel_model.evaluate(X_test, Y_test, batch_size=BATCH_SIZE, verbose=1)\n",
    "\n",
    "print(\"%s: %.2f%%\" % (parallel_model.metrics_names[1], loss_and_metrics[1]*100))"
   ]
  },
  {
   "cell_type": "code",
   "execution_count": 14,
   "metadata": {},
   "outputs": [
    {
     "data": {
      "text/plain": [
       "0.9928382826133575"
      ]
     },
     "execution_count": 14,
     "metadata": {},
     "output_type": "execute_result"
    }
   ],
   "source": [
    "# Evaluate ROC and AUC\n",
    "\n",
    "Y_pred = parallel_model.predict(X_test)\n",
    "roc_auc_score(Y_test, Y_pred)"
   ]
  },
  {
   "cell_type": "code",
   "execution_count": 15,
   "metadata": {},
   "outputs": [
    {
     "data": {
      "text/plain": [
       "0"
      ]
     },
     "execution_count": 15,
     "metadata": {},
     "output_type": "execute_result"
    }
   ],
   "source": [
    "# Free memory\n",
    "X_test = []\n",
    "Y_test = []\n",
    "gc.collect()"
   ]
  },
  {
   "cell_type": "code",
   "execution_count": null,
   "metadata": {
    "collapsed": true
   },
   "outputs": [],
   "source": []
  }
 ],
 "metadata": {
  "kernelspec": {
   "display_name": "Python 3",
   "language": "python",
   "name": "python3"
  },
  "language_info": {
   "codemirror_mode": {
    "name": "ipython",
    "version": 3
   },
   "file_extension": ".py",
   "mimetype": "text/x-python",
   "name": "python",
   "nbconvert_exporter": "python",
   "pygments_lexer": "ipython3",
   "version": "3.6.3"
  }
 },
 "nbformat": 4,
 "nbformat_minor": 1
}
