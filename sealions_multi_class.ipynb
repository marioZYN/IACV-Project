{
 "cells": [
  {
   "cell_type": "code",
   "execution_count": 2,
   "metadata": {
    "collapsed": true
   },
   "outputs": [],
   "source": [
    "import numpy as np\n",
    "import cv2\n",
    "import matplotlib.pyplot as plt\n",
    "import skimage.feature\n",
    "import pandas as pd\n",
    "import time\n",
    "import math\n",
    "import sys\n",
    "import random\n",
    "from ast import literal_eval\n",
    "\n",
    "from sklearn import linear_model\n",
    "from sklearn import model_selection\n",
    "from sklearn.metrics import recall_score\n",
    "from sklearn.metrics import precision_score\n",
    "\n",
    "%matplotlib inline"
   ]
  },
  {
   "cell_type": "markdown",
   "metadata": {},
   "source": [
    "# Data Initialization"
   ]
  },
  {
   "cell_type": "code",
   "execution_count": 3,
   "metadata": {
    "collapsed": true
   },
   "outputs": [],
   "source": [
    "classes = [\"adult_males\", \"subadult_males\", \"adult_females\", \"juveniles\", \"pups\"]\n",
    "\n",
    "train_path = '/Users/YINAN/Local/Sea-lions/Data/Train/'\n",
    "train_dotted_path = '/Users/YINAN/Local/Sea-lions/Data/TrainDotted/'\n",
    "\n",
    "bad_images = [3,7,9,21,30,34,71,81,89,97,151,184,215,234,242,268,290,311,331,344,380,384,406,421,469,475,490,499,507,\n",
    "              530,531,605,607,614,621,638,644,687,712,721]\n",
    "\n",
    "file_names = [str(x) + '.jpg' for x in range(0,750) if x not in bad_images]\n",
    "coordinates_df = pd.DataFrame(index=file_names, columns=classes)\n",
    "# read all the coordinates \n",
    "coordinates_df = pd.read_csv(\"./coordinates.csv\", index_col='index', converters={\"adult_males\": literal_eval,\\\n",
    "\"subadult_males\": literal_eval, \"adult_females\": literal_eval, \"juveniles\": literal_eval, \"pups\": literal_eval, \"total\": literal_eval})"
   ]
  },
  {
   "cell_type": "code",
   "execution_count": 4,
   "metadata": {
    "scrolled": true
   },
   "outputs": [
    {
     "data": {
      "text/html": [
       "<div>\n",
       "<style>\n",
       "    .dataframe thead tr:only-child th {\n",
       "        text-align: right;\n",
       "    }\n",
       "\n",
       "    .dataframe thead th {\n",
       "        text-align: left;\n",
       "    }\n",
       "\n",
       "    .dataframe tbody tr th {\n",
       "        vertical-align: top;\n",
       "    }\n",
       "</style>\n",
       "<table border=\"1\" class=\"dataframe\">\n",
       "  <thead>\n",
       "    <tr style=\"text-align: right;\">\n",
       "      <th></th>\n",
       "      <th>adult_males</th>\n",
       "      <th>subadult_males</th>\n",
       "      <th>adult_females</th>\n",
       "      <th>juveniles</th>\n",
       "      <th>pups</th>\n",
       "      <th>total</th>\n",
       "    </tr>\n",
       "    <tr>\n",
       "      <th>index</th>\n",
       "      <th></th>\n",
       "      <th></th>\n",
       "      <th></th>\n",
       "      <th></th>\n",
       "      <th></th>\n",
       "      <th></th>\n",
       "    </tr>\n",
       "  </thead>\n",
       "  <tbody>\n",
       "    <tr>\n",
       "      <th>0.jpg</th>\n",
       "      <td>[(2353, 3726), (3638, 3539), (4720, 3476), (41...</td>\n",
       "      <td>[(1437, 3178), (4017, 3094), (5135, 2649), (63...</td>\n",
       "      <td>[(1953, 3730), (2882, 3728), (3443, 3725), (26...</td>\n",
       "      <td>[(3295, 3515), (1009, 3489), (3941, 3470), (10...</td>\n",
       "      <td>[(3143, 3732), (3486, 3726), (2694, 3711), (19...</td>\n",
       "      <td>[(3143, 3732), (1953, 3730), (2882, 3728), (34...</td>\n",
       "    </tr>\n",
       "    <tr>\n",
       "      <th>1.jpg</th>\n",
       "      <td>[(3012, 2880), (2233, 871)]</td>\n",
       "      <td>[(4655, 3056), (4574, 2992), (4609, 2959), (39...</td>\n",
       "      <td>[]</td>\n",
       "      <td>[(3619, 3609), (4781, 3414), (4437, 2933), (43...</td>\n",
       "      <td>[]</td>\n",
       "      <td>[(3619, 3609), (4781, 3414), (4655, 3056), (45...</td>\n",
       "    </tr>\n",
       "    <tr>\n",
       "      <th>2.jpg</th>\n",
       "      <td>[(2272, 1816), (2084, 1773)]</td>\n",
       "      <td>[]</td>\n",
       "      <td>[(2306, 1882), (2226, 1877), (2272, 1858), (23...</td>\n",
       "      <td>[(2342, 1887), (2332, 1880), (2037, 1860), (22...</td>\n",
       "      <td>[]</td>\n",
       "      <td>[(2342, 1887), (2306, 1882), (2332, 1880), (22...</td>\n",
       "    </tr>\n",
       "    <tr>\n",
       "      <th>4.jpg</th>\n",
       "      <td>[(2458, 3367), (60, 2535), (3088, 2503), (3347...</td>\n",
       "      <td>[(1693, 3505), (2143, 2954), (2966, 2923), (91...</td>\n",
       "      <td>[(675, 3479), (1093, 3465)]</td>\n",
       "      <td>[]</td>\n",
       "      <td>[]</td>\n",
       "      <td>[(1693, 3505), (675, 3479), (1093, 3465), (245...</td>\n",
       "    </tr>\n",
       "    <tr>\n",
       "      <th>5.jpg</th>\n",
       "      <td>[(3952, 2911), (3053, 2483), (2996, 2154), (30...</td>\n",
       "      <td>[(3488, 3218), (3570, 1342), (3366, 770), (340...</td>\n",
       "      <td>[(3301, 1796), (3170, 1790), (3246, 1711), (30...</td>\n",
       "      <td>[(3214, 1769), (3188, 1705), (3147, 1684), (33...</td>\n",
       "      <td>[(3212, 1811), (3301, 1770), (3299, 1732), (32...</td>\n",
       "      <td>[(3488, 3218), (3952, 2911), (3053, 2483), (29...</td>\n",
       "    </tr>\n",
       "  </tbody>\n",
       "</table>\n",
       "</div>"
      ],
      "text/plain": [
       "                                             adult_males  \\\n",
       "index                                                      \n",
       "0.jpg  [(2353, 3726), (3638, 3539), (4720, 3476), (41...   \n",
       "1.jpg                        [(3012, 2880), (2233, 871)]   \n",
       "2.jpg                       [(2272, 1816), (2084, 1773)]   \n",
       "4.jpg  [(2458, 3367), (60, 2535), (3088, 2503), (3347...   \n",
       "5.jpg  [(3952, 2911), (3053, 2483), (2996, 2154), (30...   \n",
       "\n",
       "                                          subadult_males  \\\n",
       "index                                                      \n",
       "0.jpg  [(1437, 3178), (4017, 3094), (5135, 2649), (63...   \n",
       "1.jpg  [(4655, 3056), (4574, 2992), (4609, 2959), (39...   \n",
       "2.jpg                                                 []   \n",
       "4.jpg  [(1693, 3505), (2143, 2954), (2966, 2923), (91...   \n",
       "5.jpg  [(3488, 3218), (3570, 1342), (3366, 770), (340...   \n",
       "\n",
       "                                           adult_females  \\\n",
       "index                                                      \n",
       "0.jpg  [(1953, 3730), (2882, 3728), (3443, 3725), (26...   \n",
       "1.jpg                                                 []   \n",
       "2.jpg  [(2306, 1882), (2226, 1877), (2272, 1858), (23...   \n",
       "4.jpg                        [(675, 3479), (1093, 3465)]   \n",
       "5.jpg  [(3301, 1796), (3170, 1790), (3246, 1711), (30...   \n",
       "\n",
       "                                               juveniles  \\\n",
       "index                                                      \n",
       "0.jpg  [(3295, 3515), (1009, 3489), (3941, 3470), (10...   \n",
       "1.jpg  [(3619, 3609), (4781, 3414), (4437, 2933), (43...   \n",
       "2.jpg  [(2342, 1887), (2332, 1880), (2037, 1860), (22...   \n",
       "4.jpg                                                 []   \n",
       "5.jpg  [(3214, 1769), (3188, 1705), (3147, 1684), (33...   \n",
       "\n",
       "                                                    pups  \\\n",
       "index                                                      \n",
       "0.jpg  [(3143, 3732), (3486, 3726), (2694, 3711), (19...   \n",
       "1.jpg                                                 []   \n",
       "2.jpg                                                 []   \n",
       "4.jpg                                                 []   \n",
       "5.jpg  [(3212, 1811), (3301, 1770), (3299, 1732), (32...   \n",
       "\n",
       "                                                   total  \n",
       "index                                                     \n",
       "0.jpg  [(3143, 3732), (1953, 3730), (2882, 3728), (34...  \n",
       "1.jpg  [(3619, 3609), (4781, 3414), (4655, 3056), (45...  \n",
       "2.jpg  [(2342, 1887), (2306, 1882), (2332, 1880), (22...  \n",
       "4.jpg  [(1693, 3505), (675, 3479), (1093, 3465), (245...  \n",
       "5.jpg  [(3488, 3218), (3952, 2911), (3053, 2483), (29...  "
      ]
     },
     "execution_count": 4,
     "metadata": {},
     "output_type": "execute_result"
    }
   ],
   "source": [
    "coordinates_df.head()"
   ]
  },
  {
   "cell_type": "code",
   "execution_count": 5,
   "metadata": {
    "collapsed": true
   },
   "outputs": [],
   "source": [
    "def sliding_window(image):\n",
    "    patches = []\n",
    "    for row in range(image.shape[0]//96):\n",
    "        for col in range(image.shape[1]//96):\n",
    "            patch_rgb = cv2.cvtColor(image[row*96:row*96+96, col*96:col*96+96], cv2.COLOR_BGR2RGB)\n",
    "            patches.append(patch_rgb)\n",
    "    return patches\n",
    "\n",
    "def extract_patches_with_sealions(coordinates_df, num_patches):\n",
    "    patches = {\n",
    "        \"adult_males\": [], \n",
    "        \"subadult_males\": [], \n",
    "        \"adult_females\": [], \n",
    "        \"juveniles\": [], \n",
    "        \"pups\": []\n",
    "    }\n",
    "    classes = [\"adult_males\", \"subadult_males\", \"adult_females\", \"juveniles\", \"pups\"]\n",
    "    coordinates_df = coordinates_df.sample(frac=1)\n",
    "    for filename in coordinates_df.index:\n",
    "        if len(classes) == 0:\n",
    "            return patches\n",
    "        image = cv2.imread(train_path + filename)\n",
    "        for sealion_class in classes:\n",
    "            for coordinates in coordinates_df.loc[filename][sealion_class]:\n",
    "                thumb = image[coordinates[1]-48:coordinates[1]+48,coordinates[0]-48:coordinates[0]+48,:]\n",
    "                if np.shape(thumb) == (96, 96, 3):\n",
    "                    patches[sealion_class].append(cv2.cvtColor(thumb, cv2.COLOR_BGR2RGB))\n",
    "                    if len(patches[sealion_class]) == num_patches[sealion_class]:\n",
    "                        print(\"%s patches completes, number = %d\"%(sealion_class, len(patches[sealion_class])))\n",
    "                        classes.remove(sealion_class)\n",
    "                        break\n",
    "\n",
    "def extract_patches_without_sealions(coordinates_df, num_patches):\n",
    "    patches = []\n",
    "    coordinates_df = coordinates_df.sample(frac=1)\n",
    "    for filename in coordinates_df.index:\n",
    "        sealion_coordinates_list = coordinates_df.loc[filename].total\n",
    "        image = cv2.imread(train_path + filename)\n",
    "        for row in range(image.shape[0]//96):\n",
    "            for col in range(image.shape[1]//96):\n",
    "                center = (row*96+48, col*96+48)\n",
    "                flag = True\n",
    "                for thumb in sealion_coordinates_list:\n",
    "                    if math.sqrt((center[0] - thumb[1])**2 + (center[1] - thumb[0])**2) < math.sqrt(2)*96:\n",
    "                        flag = False\n",
    "                        break\n",
    "                if flag:\n",
    "                    patch_rgb = cv2.cvtColor(image[row*96:row*96+96, col*96:col*96+96], cv2.COLOR_BGR2RGB)\n",
    "                    patches.append(patch_rgb)\n",
    "                    print(\"\\r%d patches completes, with total %d\"%(len(patches), num_patches), end='')\n",
    "                    sys.stdout.flush()\n",
    "                    if len(patches) == num_patches:\n",
    "                        return patches\n",
    "\n",
    "def generate_dataset(coordinate_df, num_adult_males, num_subadult_males, num_adult_females, num_juveniles, num_pups, num_background):\n",
    "    sealion_patches_num = {\n",
    "        'adult_males': num_adult_males,\n",
    "        'subadult_males': num_subadult_males,\n",
    "        'adult_females': num_adult_females,\n",
    "        'juveniles': num_juveniles,\n",
    "        'pups':num_pups\n",
    "    }\n",
    "    sealion_patches = extract_patches_with_sealions(coordinates_df, sealion_patches_num)\n",
    "    background_patches = extract_patches_without_sealions(coordinates_df, num_background)\n",
    "    x = []\n",
    "    y = []\n",
    "    for key, val in sealion_patches.items():\n",
    "        x += val\n",
    "        y += [key]*len(val)\n",
    "    for val in background_patches:\n",
    "        x.append(val)\n",
    "        y.append('background')\n",
    "    x = np.array(x)\n",
    "    y = np.array(y)\n",
    "    return x, y"
   ]
  },
  {
   "cell_type": "code",
   "execution_count": 5,
   "metadata": {
    "scrolled": true
   },
   "outputs": [
    {
     "name": "stdout",
     "output_type": "stream",
     "text": [
      "adult_females patches completes, number = 1000\n",
      "juveniles patches completes, number = 1000\n",
      "pups patches completes, number = 1000\n",
      "adult_males patches completes, number = 1000\n",
      "subadult_males patches completes, number = 1000\n",
      "20000 patches completes, with total 20000"
     ]
    }
   ],
   "source": [
    "x, y = generate_dataset(coordinates_df, num_adult_males=1000, num_subadult_males=1000, num_adult_females=1000,\\\n",
    "                    num_juveniles=1000,num_pups=1000, num_background=20000)"
   ]
  },
  {
   "cell_type": "markdown",
   "metadata": {},
   "source": [
    "# Keras "
   ]
  },
  {
   "cell_type": "code",
   "execution_count": 6,
   "metadata": {},
   "outputs": [
    {
     "name": "stderr",
     "output_type": "stream",
     "text": [
      "Using TensorFlow backend.\n",
      "/Users/YINAN/anaconda3/lib/python3.6/importlib/_bootstrap.py:219: RuntimeWarning: compiletime version 3.5 of module 'tensorflow.python.framework.fast_tensor_util' does not match runtime version 3.6\n",
      "  return f(*args, **kwds)\n"
     ]
    }
   ],
   "source": [
    "from sklearn.model_selection import train_test_split\n",
    "from sklearn.preprocessing import LabelEncoder\n",
    "import keras\n",
    "from keras.models import Sequential, load_model\n",
    "from keras.layers import Dense, Dropout, Activation, Flatten, Convolution2D, MaxPooling2D, Lambda, Cropping2D\n",
    "from keras.utils import np_utils\n",
    "from keras.optimizers import SGD\n",
    "from keras.utils import np_utils"
   ]
  },
  {
   "cell_type": "code",
   "execution_count": 7,
   "metadata": {
    "collapsed": true
   },
   "outputs": [],
   "source": [
    "x_train, x_test, y_train, y_test = train_test_split(x,y, test_size=0.3)\n",
    "x_train = x_train/255\n",
    "x_test = x_test/255\n",
    "encoder = LabelEncoder()\n",
    "encoder.fit(y_train)\n",
    "y_train = encoder.transform(y_train)\n",
    "y_train = np_utils.to_categorical(y_train, 10)\n",
    "y_test = encoder.transform(y_test)\n",
    "y_test= np_utils.to_categorical(y_test, 10)"
   ]
  },
  {
   "cell_type": "code",
   "execution_count": 7,
   "metadata": {
    "collapsed": true
   },
   "outputs": [],
   "source": [
    "INPUT_SHAPE = (96,96,3)\n",
    "\n",
    "model = Sequential()\n",
    "# First layer\n",
    "model.add(Convolution2D(8, (5, 5), activation='relu', padding='valid', input_shape=INPUT_SHAPE))\n",
    "model.add(MaxPooling2D(pool_size=(2, 2)))\n",
    "# model.add(Dropout(0.25))\n",
    "\n",
    "# Second layer\n",
    "model.add(Convolution2D(5, (3, 3), activation='relu', padding='valid'))\n",
    "model.add(MaxPooling2D(pool_size=(2, 2)))\n",
    "# model.add(Dropout(0.25))\n",
    "\n",
    "# Third layer\n",
    "model.add(Convolution2D(5, (3, 3), activation='relu', padding='valid'))\n",
    "model.add(MaxPooling2D(pool_size=(2, 2)))\n",
    "# model.add(Dropout(0.25))\n",
    "\n",
    "# Fourth layer\n",
    "model.add(Convolution2D(10, (3, 3), activation='relu', padding='valid'))\n",
    "model.add(MaxPooling2D(pool_size=(2, 2)))\n",
    "# model.add(Dropout(0.25))\n",
    "\n",
    "model.add(Flatten())\n",
    "\n",
    "# model.add(Dropout(0.5))\n",
    "model.add(Dense(10, activation='softmax'))\n"
   ]
  },
  {
   "cell_type": "code",
   "execution_count": 8,
   "metadata": {
    "collapsed": true
   },
   "outputs": [],
   "source": [
    "model.compile(loss='categorical_crossentropy',\n",
    "              optimizer='adam',\n",
    "              metrics=['accuracy'])"
   ]
  },
  {
   "cell_type": "code",
   "execution_count": 10,
   "metadata": {},
   "outputs": [
    {
     "name": "stdout",
     "output_type": "stream",
     "text": [
      "_________________________________________________________________\n",
      "Layer (type)                 Output Shape              Param #   \n",
      "=================================================================\n",
      "conv2d_1 (Conv2D)            (None, 92, 92, 8)         608       \n",
      "_________________________________________________________________\n",
      "max_pooling2d_1 (MaxPooling2 (None, 46, 46, 8)         0         \n",
      "_________________________________________________________________\n",
      "conv2d_2 (Conv2D)            (None, 44, 44, 5)         365       \n",
      "_________________________________________________________________\n",
      "max_pooling2d_2 (MaxPooling2 (None, 22, 22, 5)         0         \n",
      "_________________________________________________________________\n",
      "conv2d_3 (Conv2D)            (None, 20, 20, 5)         230       \n",
      "_________________________________________________________________\n",
      "max_pooling2d_3 (MaxPooling2 (None, 10, 10, 5)         0         \n",
      "_________________________________________________________________\n",
      "conv2d_4 (Conv2D)            (None, 8, 8, 10)          460       \n",
      "_________________________________________________________________\n",
      "max_pooling2d_4 (MaxPooling2 (None, 4, 4, 10)          0         \n",
      "_________________________________________________________________\n",
      "flatten_1 (Flatten)          (None, 160)               0         \n",
      "_________________________________________________________________\n",
      "dense_1 (Dense)              (None, 10)                1610      \n",
      "=================================================================\n",
      "Total params: 3,273\n",
      "Trainable params: 3,273\n",
      "Non-trainable params: 0\n",
      "_________________________________________________________________\n"
     ]
    }
   ],
   "source": [
    "model.summary()"
   ]
  },
  {
   "cell_type": "code",
   "execution_count": 11,
   "metadata": {},
   "outputs": [
    {
     "name": "stdout",
     "output_type": "stream",
     "text": [
      "Epoch 1/50\n",
      "17500/17500 [==============================] - 200s 11ms/step - loss: 0.7977 - acc: 0.8009\n",
      "Epoch 2/50\n",
      "17500/17500 [==============================] - 165s 9ms/step - loss: 0.4723 - acc: 0.8358\n",
      "Epoch 3/50\n",
      "17500/17500 [==============================] - 2466s 141ms/step - loss: 0.4088 - acc: 0.8596\n",
      "Epoch 4/50\n",
      "17500/17500 [==============================] - 166s 9ms/step - loss: 0.3943 - acc: 0.8624\n",
      "Epoch 5/50\n",
      "17500/17500 [==============================] - 138s 8ms/step - loss: 0.3834 - acc: 0.8671\n",
      "Epoch 6/50\n",
      "17500/17500 [==============================] - 139s 8ms/step - loss: 0.3678 - acc: 0.8724\n",
      "Epoch 7/50\n",
      "17500/17500 [==============================] - 127s 7ms/step - loss: 0.3652 - acc: 0.8746\n",
      "Epoch 8/50\n",
      "17500/17500 [==============================] - 127s 7ms/step - loss: 0.3575 - acc: 0.8755\n",
      "Epoch 9/50\n",
      "17500/17500 [==============================] - 125s 7ms/step - loss: 0.3465 - acc: 0.8802\n",
      "Epoch 10/50\n",
      "17500/17500 [==============================] - 115s 7ms/step - loss: 0.3432 - acc: 0.8794\n",
      "Epoch 11/50\n",
      "17500/17500 [==============================] - 152s 9ms/step - loss: 0.3374 - acc: 0.8839\n",
      "Epoch 12/50\n",
      "17500/17500 [==============================] - 133s 8ms/step - loss: 0.3336 - acc: 0.8849\n",
      "Epoch 13/50\n",
      "17500/17500 [==============================] - 166s 9ms/step - loss: 0.3350 - acc: 0.8873\n",
      "Epoch 14/50\n",
      "17500/17500 [==============================] - 153s 9ms/step - loss: 0.3268 - acc: 0.8882\n",
      "Epoch 15/50\n",
      "17500/17500 [==============================] - 133s 8ms/step - loss: 0.3223 - acc: 0.8894\n",
      "Epoch 16/50\n",
      "17500/17500 [==============================] - 140s 8ms/step - loss: 0.3154 - acc: 0.8922\n",
      "Epoch 17/50\n",
      "17500/17500 [==============================] - 135s 8ms/step - loss: 0.3158 - acc: 0.8909\n",
      "Epoch 18/50\n",
      "17500/17500 [==============================] - 157s 9ms/step - loss: 0.3130 - acc: 0.8906\n",
      "Epoch 19/50\n",
      "17500/17500 [==============================] - 129s 7ms/step - loss: 0.3069 - acc: 0.8944\n",
      "Epoch 20/50\n",
      "17500/17500 [==============================] - 140s 8ms/step - loss: 0.3042 - acc: 0.8934\n",
      "Epoch 21/50\n",
      "17500/17500 [==============================] - 129s 7ms/step - loss: 0.3009 - acc: 0.8961\n",
      "Epoch 22/50\n",
      "17500/17500 [==============================] - 126s 7ms/step - loss: 0.3003 - acc: 0.8960\n",
      "Epoch 23/50\n",
      "17500/17500 [==============================] - 127s 7ms/step - loss: 0.2925 - acc: 0.8977\n",
      "Epoch 24/50\n",
      "17500/17500 [==============================] - 126s 7ms/step - loss: 0.2895 - acc: 0.8981\n",
      "Epoch 25/50\n",
      "17500/17500 [==============================] - 126s 7ms/step - loss: 0.2912 - acc: 0.8990\n",
      "Epoch 26/50\n",
      "17500/17500 [==============================] - 126s 7ms/step - loss: 0.2874 - acc: 0.9004\n",
      "Epoch 27/50\n",
      "17500/17500 [==============================] - 128s 7ms/step - loss: 0.2837 - acc: 0.9006\n",
      "Epoch 28/50\n",
      "17500/17500 [==============================] - 127s 7ms/step - loss: 0.2823 - acc: 0.9013\n",
      "Epoch 29/50\n",
      "17500/17500 [==============================] - 124s 7ms/step - loss: 0.2825 - acc: 0.9006\n",
      "Epoch 30/50\n",
      "17500/17500 [==============================] - 127s 7ms/step - loss: 0.2772 - acc: 0.9039\n",
      "Epoch 31/50\n",
      "17500/17500 [==============================] - 143s 8ms/step - loss: 0.2777 - acc: 0.9018\n",
      "Epoch 32/50\n",
      "17500/17500 [==============================] - 153s 9ms/step - loss: 0.2732 - acc: 0.9047\n",
      "Epoch 33/50\n",
      "17500/17500 [==============================] - 148s 8ms/step - loss: 0.2717 - acc: 0.9035\n",
      "Epoch 34/50\n",
      "17500/17500 [==============================] - 128s 7ms/step - loss: 0.2681 - acc: 0.9057\n",
      "Epoch 35/50\n",
      "17500/17500 [==============================] - 127s 7ms/step - loss: 0.2728 - acc: 0.9053\n",
      "Epoch 36/50\n",
      "17500/17500 [==============================] - 127s 7ms/step - loss: 0.2659 - acc: 0.9060\n",
      "Epoch 37/50\n",
      "17500/17500 [==============================] - 125s 7ms/step - loss: 0.2629 - acc: 0.9061\n",
      "Epoch 38/50\n",
      "17500/17500 [==============================] - 126s 7ms/step - loss: 0.2676 - acc: 0.9064\n",
      "Epoch 39/50\n",
      "17500/17500 [==============================] - 133s 8ms/step - loss: 0.2619 - acc: 0.9060\n",
      "Epoch 40/50\n",
      "17500/17500 [==============================] - 126s 7ms/step - loss: 0.2627 - acc: 0.9063\n",
      "Epoch 41/50\n",
      "17500/17500 [==============================] - 125s 7ms/step - loss: 0.2585 - acc: 0.9075\n",
      "Epoch 42/50\n",
      "17500/17500 [==============================] - 125s 7ms/step - loss: 0.2606 - acc: 0.9056\n",
      "Epoch 43/50\n",
      "17500/17500 [==============================] - 126s 7ms/step - loss: 0.2581 - acc: 0.9084\n",
      "Epoch 44/50\n",
      "17500/17500 [==============================] - 135s 8ms/step - loss: 0.2584 - acc: 0.9083\n",
      "Epoch 45/50\n",
      "17500/17500 [==============================] - 135s 8ms/step - loss: 0.2599 - acc: 0.9083\n",
      "Epoch 46/50\n",
      "17500/17500 [==============================] - 127s 7ms/step - loss: 0.2529 - acc: 0.9108\n",
      "Epoch 47/50\n",
      "17500/17500 [==============================] - 152s 9ms/step - loss: 0.2544 - acc: 0.9086\n",
      "Epoch 48/50\n",
      "17500/17500 [==============================] - 146s 8ms/step - loss: 0.2517 - acc: 0.9104\n",
      "Epoch 49/50\n",
      "17500/17500 [==============================] - 138s 8ms/step - loss: 0.2512 - acc: 0.9107\n",
      "Epoch 50/50\n",
      "17500/17500 [==============================] - 128s 7ms/step - loss: 0.2473 - acc: 0.9117\n"
     ]
    },
    {
     "data": {
      "text/plain": [
       "<keras.callbacks.History at 0x1c6e76a550>"
      ]
     },
     "execution_count": 11,
     "metadata": {},
     "output_type": "execute_result"
    }
   ],
   "source": [
    "model.fit(x_train, y_train, \n",
    "          batch_size=50, epochs=50, verbose=1)"
   ]
  },
  {
   "cell_type": "code",
   "execution_count": 12,
   "metadata": {},
   "outputs": [
    {
     "name": "stdout",
     "output_type": "stream",
     "text": [
      "7500/7500 [==============================] - 47s 6ms/step\n"
     ]
    },
    {
     "data": {
      "text/plain": [
       "[0.26819540227254229, 0.9032]"
      ]
     },
     "execution_count": 12,
     "metadata": {},
     "output_type": "execute_result"
    }
   ],
   "source": [
    "model.evaluate(x_test, y_test)"
   ]
  },
  {
   "cell_type": "code",
   "execution_count": 13,
   "metadata": {
    "collapsed": true
   },
   "outputs": [],
   "source": [
    "# save the model\n",
    "model.save('./cnn_saved_model.h5')"
   ]
  },
  {
   "cell_type": "code",
   "execution_count": 14,
   "metadata": {
    "collapsed": true
   },
   "outputs": [],
   "source": [
    "from keras.models import load_model\n",
    "old = load_model('./cnn_saved_model.h5')"
   ]
  },
  {
   "cell_type": "code",
   "execution_count": 15,
   "metadata": {},
   "outputs": [
    {
     "data": {
      "text/plain": [
       "<keras.models.Sequential at 0x1c6e85dba8>"
      ]
     },
     "execution_count": 15,
     "metadata": {},
     "output_type": "execute_result"
    }
   ],
   "source": [
    "old"
   ]
  },
  {
   "cell_type": "code",
   "execution_count": 16,
   "metadata": {
    "scrolled": true
   },
   "outputs": [
    {
     "name": "stdout",
     "output_type": "stream",
     "text": [
      "17500/17500 [==============================] - 95s 5ms/step\n"
     ]
    },
    {
     "data": {
      "text/plain": [
       "[0.23468859199455805, 0.91548571429933823]"
      ]
     },
     "execution_count": 16,
     "metadata": {},
     "output_type": "execute_result"
    }
   ],
   "source": [
    "old.evaluate(x_train, y_train)"
   ]
  },
  {
   "cell_type": "markdown",
   "metadata": {},
   "source": [
    "# generate new test data to check the model"
   ]
  },
  {
   "cell_type": "code",
   "execution_count": 17,
   "metadata": {},
   "outputs": [
    {
     "name": "stdout",
     "output_type": "stream",
     "text": [
      "adult_females patches completes, number = 111\n",
      "juveniles patches completes, number = 451\n",
      "adult_males patches completes, number = 123\n",
      "pups patches completes, number = 500\n",
      "subadult_males patches completes, number = 345\n",
      "2000 patches completes, with total 2000"
     ]
    }
   ],
   "source": [
    "new_x, new_y = generate_dataset(coordinates_df, num_adult_males=123, num_subadult_males=345, num_adult_females=111,\\\n",
    "                    num_juveniles=451,num_pups=500, num_background=2000)"
   ]
  },
  {
   "cell_type": "code",
   "execution_count": 18,
   "metadata": {
    "collapsed": true
   },
   "outputs": [],
   "source": [
    "new_x = new_x/255\n",
    "encoder = LabelEncoder()\n",
    "encoder.fit(new_y)\n",
    "new_y = encoder.transform(new_y)\n",
    "new_y = np_utils.to_categorical(new_y, 10)"
   ]
  },
  {
   "cell_type": "code",
   "execution_count": 1,
   "metadata": {},
   "outputs": [
    {
     "ename": "NameError",
     "evalue": "name 'model' is not defined",
     "output_type": "error",
     "traceback": [
      "\u001b[0;31m---------------------------------------------------------------------------\u001b[0m",
      "\u001b[0;31mNameError\u001b[0m                                 Traceback (most recent call last)",
      "\u001b[0;32m<ipython-input-1-a54eaf14c386>\u001b[0m in \u001b[0;36m<module>\u001b[0;34m()\u001b[0m\n\u001b[0;32m----> 1\u001b[0;31m \u001b[0mmodel\u001b[0m\u001b[0;34m.\u001b[0m\u001b[0mevaluate\u001b[0m\u001b[0;34m\u001b[0m\u001b[0m\n\u001b[0m",
      "\u001b[0;31mNameError\u001b[0m: name 'model' is not defined"
     ]
    }
   ],
   "source": [
    "model.evaluate"
   ]
  },
  {
   "cell_type": "code",
   "execution_count": null,
   "metadata": {
    "collapsed": true
   },
   "outputs": [],
   "source": []
  }
 ],
 "metadata": {
  "kernelspec": {
   "display_name": "Python 3",
   "language": "python",
   "name": "python3"
  },
  "language_info": {
   "codemirror_mode": {
    "name": "ipython",
    "version": 3
   },
   "file_extension": ".py",
   "mimetype": "text/x-python",
   "name": "python",
   "nbconvert_exporter": "python",
   "pygments_lexer": "ipython3",
   "version": "3.6.3"
  }
 },
 "nbformat": 4,
 "nbformat_minor": 2
}
